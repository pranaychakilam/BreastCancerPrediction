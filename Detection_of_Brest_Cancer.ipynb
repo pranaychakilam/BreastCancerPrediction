{
  "nbformat": 4,
  "nbformat_minor": 0,
  "metadata": {
    "colab": {
      "name": "Detection of Brest Cancer.ipynb",
      "provenance": [],
      "collapsed_sections": []
    },
    "kernelspec": {
      "name": "python3",
      "display_name": "Python 3"
    },
    "language_info": {
      "name": "python"
    }
  },
  "cells": [
    {
      "cell_type": "markdown",
      "source": [
        "### **Importing the Libraries**"
      ],
      "metadata": {
        "id": "mP5LrAobjTcJ"
      }
    },
    {
      "cell_type": "code",
      "execution_count": 1,
      "metadata": {
        "id": "RtsPHd-oHg06"
      },
      "outputs": [],
      "source": [
        "import pandas as pd"
      ]
    },
    {
      "cell_type": "markdown",
      "source": [
        "### **Importing the Dataset**"
      ],
      "metadata": {
        "id": "PClXDg9zjUCI"
      }
    },
    {
      "cell_type": "code",
      "source": [
        "dataset=pd.read_csv('/content/breast_cancer.csv')"
      ],
      "metadata": {
        "id": "t6cbsIDIJBqS"
      },
      "execution_count": 3,
      "outputs": []
    },
    {
      "cell_type": "code",
      "source": [
        "X=dataset.iloc[:,1:-1].values\n",
        "y=dataset.iloc[:,-1].values"
      ],
      "metadata": {
        "id": "u2QUsN6nJX6f"
      },
      "execution_count": 4,
      "outputs": []
    },
    {
      "cell_type": "markdown",
      "source": [
        "### **Splitting the data into Training and Test Sets**"
      ],
      "metadata": {
        "id": "Q4zJczR9jVed"
      }
    },
    {
      "cell_type": "code",
      "source": [
        "from sklearn.model_selection import train_test_split\n",
        "X_train, X_test, y_train, y_test= train_test_split(X,y,test_size=0.2, random_state=0)"
      ],
      "metadata": {
        "id": "Wn4fdQFtLsIL"
      },
      "execution_count": 5,
      "outputs": []
    },
    {
      "cell_type": "markdown",
      "source": [
        "### **Training the Logistic Regression Model on Training Set**"
      ],
      "metadata": {
        "id": "ip-s85WRjWF7"
      }
    },
    {
      "cell_type": "code",
      "source": [
        "from sklearn.linear_model import LogisticRegression\n",
        "classifier=LogisticRegression(random_state=1)\n",
        "classifier.fit(X_train, y_train)"
      ],
      "metadata": {
        "id": "ITFHpxP7MTrE"
      },
      "execution_count": null,
      "outputs": []
    },
    {
      "cell_type": "markdown",
      "source": [
        "### **Predicting the Test Results**"
      ],
      "metadata": {
        "id": "NsVePPAojZvP"
      }
    },
    {
      "cell_type": "code",
      "source": [
        "y_pred=classifier.predict(X_test)"
      ],
      "metadata": {
        "id": "OduYrENCd6Dj"
      },
      "execution_count": 9,
      "outputs": []
    },
    {
      "cell_type": "markdown",
      "source": [
        "### **Confusion** **Matrix**"
      ],
      "metadata": {
        "id": "IsR8ttCWjamp"
      }
    },
    {
      "cell_type": "code",
      "source": [
        "from sklearn.metrics import confusion_matrix\n",
        "cm=confusion_matrix(y_test,y_pred)\n",
        "print(cm)"
      ],
      "metadata": {
        "id": "WItGi7N2exB3"
      },
      "execution_count": null,
      "outputs": []
    },
    {
      "cell_type": "markdown",
      "source": [
        "### **Computing the Accuracy with K Fold Cross Validation**"
      ],
      "metadata": {
        "id": "geYXdgYajbLq"
      }
    },
    {
      "cell_type": "code",
      "source": [
        "from sklearn.model_selection import cross_val_score\n",
        "accuracies=cross_val_score(estimator=classifier, X=X_train, y=y_train, cv=10)\n",
        "print(\"accuracy= {:.2f} %\".format(accuracies.mean()*100))\n",
        "print(\"StandardDeviation= {:.2f} %\".format(accuracies.std()*100))"
      ],
      "metadata": {
        "id": "q5fd8AFLgH_H"
      },
      "execution_count": null,
      "outputs": []
    }
  ]
}